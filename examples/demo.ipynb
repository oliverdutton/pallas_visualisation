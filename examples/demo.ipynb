{
  "cells": [
    {
      "cell_type": "code",
      "execution_count": null,
      "metadata": {
        "id": "3u2_syWQL9GA"
      },
      "outputs": [],
      "source": [
        "!pip install -q git+https://github.com/oliverdutton/pallas_visualisation.git\n",
        "\n",
        "from functools import partial\n",
        "\n",
        "import jax\n",
        "from jax import Array, numpy as jnp\n",
        "import jax.experimental.pallas as pl\n",
        "\n",
        "from pallas_visualisation import visualise, pallas_call"
      ]
    },
    {
      "cell_type": "markdown",
      "metadata": {
        "id": "VqzQQglAL9GD"
      },
      "source": [
        "We can see how BlockSpecs are dividing up a simple add kernel"
      ]
    },
    {
      "cell_type": "code",
      "execution_count": 3,
      "metadata": {
        "id": "-wu5vlezL9GE",
        "outputId": "a99f20d1-09e1-4ae2-c334-3c6e094f9505",
        "colab": {
          "base_uri": "https://localhost:8080/",
          "height": 839
        }
      },
      "outputs": [
        {
          "output_type": "stream",
          "name": "stdout",
          "text": [
            "Running on public URL: https://40914f8345e644e357.gradio.live\n"
          ]
        },
        {
          "output_type": "display_data",
          "data": {
            "text/plain": [
              "<IPython.core.display.HTML object>"
            ],
            "text/html": [
              "<div><iframe src=\"https://40914f8345e644e357.gradio.live\" width=\"100%\" height=\"800\" allow=\"autoplay; camera; microphone; clipboard-read; clipboard-write;\" frameborder=\"0\" allowfullscreen></iframe></div>"
            ]
          },
          "metadata": {}
        }
      ],
      "source": [
        "def add_vectors_kernel(x_ref, y_ref, o_ref):\n",
        "  x, y = x_ref[...], y_ref[...]\n",
        "  o_ref[...] = x + y\n",
        "\n",
        "inputs = (\n",
        "  jnp.ones((128,)),\n",
        "  jnp.ones((128,))\n",
        ")\n",
        "block_size = 32\n",
        "\n",
        "pallas_function = pallas_call(\n",
        "  add_vectors_kernel,\n",
        "  out_shape=jax.ShapeDtypeStruct(inputs[0].shape, inputs[0].dtype),\n",
        "  grid=(pl.cdiv(inputs[0].shape[0], block_size),),\n",
        "  in_specs=(\n",
        "    pl.BlockSpec(lambda i: (i,), (block_size,)),\n",
        "    pl.BlockSpec(lambda i: (i,), (block_size,)),\n",
        "  ),\n",
        "  out_specs=(\n",
        "    pl.BlockSpec(lambda i: (i,), (block_size,))\n",
        "  ),\n",
        ")\n",
        "visualise(\n",
        "  pallas_function,\n",
        "  inputs,\n",
        "  display_full_grid=True,\n",
        ")\n"
      ]
    },
    {
      "cell_type": "markdown",
      "metadata": {
        "id": "C8aazrWkL9GF"
      },
      "source": [
        "Or more complex indexing, such as in matrix multiplication to see blocking in M, N and K dims.\n",
        "\n",
        "Here we have 2 blocks in M and N which are in the grid, and 4 blocks in the K, which are looped over in the kernel."
      ]
    },
    {
      "cell_type": "code",
      "execution_count": 5,
      "metadata": {
        "id": "M-gVFGCyL9GF",
        "outputId": "b4690aec-0704-4829-e2d0-4176fc5b8ed6",
        "colab": {
          "base_uri": "https://localhost:8080/",
          "height": 839
        }
      },
      "outputs": [
        {
          "output_type": "stream",
          "name": "stdout",
          "text": [
            "Running on public URL: https://2d6988c0ce028a7125.gradio.live\n"
          ]
        },
        {
          "output_type": "display_data",
          "data": {
            "text/plain": [
              "<IPython.core.display.HTML object>"
            ],
            "text/html": [
              "<div><iframe src=\"https://2d6988c0ce028a7125.gradio.live\" width=\"100%\" height=\"800\" allow=\"autoplay; camera; microphone; clipboard-read; clipboard-write;\" frameborder=\"0\" allowfullscreen></iframe></div>"
            ]
          },
          "metadata": {}
        }
      ],
      "source": [
        "def matmul_kernel(x_ref, y_ref, o_ref, activation, block_k):\n",
        "  acc = jnp.zeros((x_ref.shape[0], y_ref.shape[1]), jnp.float32)\n",
        "  for k in range(x_ref.shape[1] // block_k):\n",
        "    x = x_ref[:, k*block_k:(k+1)*block_k]\n",
        "    y = y_ref[k*block_k:(k+1)*block_k, :]\n",
        "    acc += x @ y\n",
        "  o_ref[:, :] = activation(acc).astype(o_ref.dtype)\n",
        "\n",
        "x, y = jnp.ones((32, 32)), jnp.ones((32, 64))\n",
        "block_shape = 16, 32, 8\n",
        "\n",
        "activation = jax.nn.gelu\n",
        "block_m, block_n, block_k = block_shape\n",
        "\n",
        "fused_matmul = pallas_call(\n",
        "  partial(matmul_kernel, block_k=block_k, activation=activation),\n",
        "  out_shape=jax.ShapeDtypeStruct((x.shape[0], y.shape[1],), jnp.float32),\n",
        "  in_specs=[\n",
        "      pl.BlockSpec(lambda i, j: (i, 0), (block_m, x.shape[1])),\n",
        "      pl.BlockSpec(lambda i, j: (0, j), (y.shape[0], block_n))\n",
        "  ],\n",
        "  out_specs=pl.BlockSpec(lambda i, j: (i, j), (block_m, block_n)),\n",
        "  grid=(2,2),\n",
        "  interpret=True\n",
        ")\n",
        "\n",
        "visualise(\n",
        "  fused_matmul,\n",
        "  (x,y),\n",
        "  display_full_grid=True,\n",
        ")"
      ]
    },
    {
      "cell_type": "markdown",
      "source": [
        "Remember to keep the inputs small, as visualisation of large arrays is very slow. Apologies."
      ],
      "metadata": {
        "id": "7PiLfjDjPkAD"
      }
    },
    {
      "cell_type": "code",
      "source": [],
      "metadata": {
        "id": "1Bxa6Cr6PoWB"
      },
      "execution_count": null,
      "outputs": []
    }
  ],
  "metadata": {
    "kernelspec": {
      "display_name": "Python 3",
      "language": "python",
      "name": "python3"
    },
    "language_info": {
      "codemirror_mode": {
        "name": "ipython",
        "version": 3
      },
      "file_extension": ".py",
      "mimetype": "text/x-python",
      "name": "python",
      "nbconvert_exporter": "python",
      "pygments_lexer": "ipython3",
      "version": "3.12.3"
    },
    "colab": {
      "provenance": []
    }
  },
  "nbformat": 4,
  "nbformat_minor": 0
}