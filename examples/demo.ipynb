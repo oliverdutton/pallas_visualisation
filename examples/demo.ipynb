{
 "cells": [
  {
   "cell_type": "code",
   "execution_count": 1,
   "metadata": {},
   "outputs": [
    {
     "name": "stderr",
     "output_type": "stream",
     "text": [
      "/Library/Frameworks/Python.framework/Versions/3.12/lib/python3.12/site-packages/tqdm/auto.py:21: TqdmWarning: IProgress not found. Please update jupyter and ipywidgets. See https://ipywidgets.readthedocs.io/en/stable/user_install.html\n",
      "  from .autonotebook import tqdm as notebook_tqdm\n"
     ]
    }
   ],
   "source": [
    "from functools import partial\n",
    "\n",
    "import jax\n",
    "from jax import Array, numpy as jnp\n",
    "import jax.experimental.pallas as pl\n",
    "\n",
    "from pallas_visualisation import visualise, pallas_call"
   ]
  },
  {
   "cell_type": "markdown",
   "metadata": {},
   "source": [
    "We can see how BlockSpecs are dividing up a simple add kernel"
   ]
  },
  {
   "cell_type": "code",
   "execution_count": 2,
   "metadata": {},
   "outputs": [
    {
     "data": {
      "text/html": [
       "<div><iframe src=\"http://127.0.0.1:7860/\" width=\"100%\" height=\"800\" allow=\"autoplay; camera; microphone; clipboard-read; clipboard-write;\" frameborder=\"0\" allowfullscreen></iframe></div>"
      ],
      "text/plain": [
       "<IPython.core.display.HTML object>"
      ]
     },
     "metadata": {},
     "output_type": "display_data"
    }
   ],
   "source": [
    "def add_vectors_kernel(x_ref, y_ref, o_ref):\n",
    "  x, y = x_ref[...], y_ref[...]\n",
    "  o_ref[...] = x + y\n",
    "\n",
    "inputs = (\n",
    "  jnp.ones((128,)), \n",
    "  jnp.ones((128,))\n",
    ")\n",
    "block_size = 32\n",
    "\n",
    "pallas_function = pallas_call(\n",
    "  add_vectors_kernel,\n",
    "  out_shape=jax.ShapeDtypeStruct(inputs[0].shape, inputs[0].dtype),\n",
    "  grid=(pl.cdiv(inputs[0].shape[0], block_size),),\n",
    "  in_specs=(\n",
    "    pl.BlockSpec(lambda i: (i,), (block_size,)),\n",
    "    pl.BlockSpec(lambda i: (i,), (block_size,)),\n",
    "  ),\n",
    "  out_specs=(\n",
    "    pl.BlockSpec(lambda i: (i,), (block_size,))\n",
    "  ),  \n",
    ")\n",
    "visualise(\n",
    "  pallas_function,\n",
    "  inputs, \n",
    "  display_full_grid=True\n",
    ")\n"
   ]
  },
  {
   "cell_type": "markdown",
   "metadata": {},
   "source": [
    "Or more complex indexing, such as in matrix multiplication to see blocking in M, N and K dims"
   ]
  },
  {
   "cell_type": "code",
   "execution_count": 4,
   "metadata": {},
   "outputs": [
    {
     "data": {
      "text/html": [
       "<div><iframe src=\"http://127.0.0.1:7862/\" width=\"100%\" height=\"800\" allow=\"autoplay; camera; microphone; clipboard-read; clipboard-write;\" frameborder=\"0\" allowfullscreen></iframe></div>"
      ],
      "text/plain": [
       "<IPython.core.display.HTML object>"
      ]
     },
     "metadata": {},
     "output_type": "display_data"
    }
   ],
   "source": [
    "def matmul_kernel(x_ref, y_ref, o_ref, activation, block_k):\n",
    "  acc = jnp.zeros((x_ref.shape[0], y_ref.shape[1]), jnp.float32)\n",
    "  for k in range(x_ref.shape[1] // block_k):\n",
    "    x = x_ref[:, k*block_k:(k+1)*block_k]\n",
    "    y = y_ref[k*block_k:(k+1)*block_k, :]\n",
    "    acc += x @ y\n",
    "  o_ref[:, :] = activation(acc).astype(o_ref.dtype)\n",
    "\n",
    "x, y = jnp.ones((32, 32)), jnp.ones((32, 64))\n",
    "block_shape = 16, 32, 8\n",
    "\n",
    "activation = jax.nn.gelu\n",
    "block_m, block_n, block_k = block_shape\n",
    "\n",
    "fused_matmul = pallas_call(\n",
    "  partial(matmul_kernel, block_k=block_k, activation=activation),\n",
    "  out_shape=jax.ShapeDtypeStruct((x.shape[0], y.shape[1],), jnp.float32),\n",
    "  in_specs=[\n",
    "      pl.BlockSpec(lambda i, j: (i, 0), (block_m, x.shape[1])),\n",
    "      pl.BlockSpec(lambda i, j: (0, j), (y.shape[0], block_n))\n",
    "  ],\n",
    "  out_specs=pl.BlockSpec(lambda i, j: (i, j), (block_m, block_n)),\n",
    "  grid=(2,2),\n",
    "  interpret=True\n",
    ")\n",
    "\n",
    "visualise(\n",
    "  fused_matmul,\n",
    "  (x,y), \n",
    "  display_full_grid=True\n",
    ")"
   ]
  },
  {
   "cell_type": "code",
   "execution_count": null,
   "metadata": {},
   "outputs": [],
   "source": []
  }
 ],
 "metadata": {
  "kernelspec": {
   "display_name": "Python 3",
   "language": "python",
   "name": "python3"
  },
  "language_info": {
   "codemirror_mode": {
    "name": "ipython",
    "version": 3
   },
   "file_extension": ".py",
   "mimetype": "text/x-python",
   "name": "python",
   "nbconvert_exporter": "python",
   "pygments_lexer": "ipython3",
   "version": "3.12.3"
  }
 },
 "nbformat": 4,
 "nbformat_minor": 2
}
